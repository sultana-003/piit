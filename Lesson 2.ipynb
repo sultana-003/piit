{
 "cells": [
  {
   "cell_type": "markdown",
   "id": "4902d2f5-ba7c-4752-80ea-ef60e397831a",
   "metadata": {},
   "source": [
    "# Range in Python"
   ]
  },
  {
   "cell_type": "code",
   "execution_count": 7,
   "id": "eb72fcf5-2a31-4df2-b153-ae9536f39074",
   "metadata": {},
   "outputs": [
    {
     "data": {
      "text/plain": [
       "range(0, 3)"
      ]
     },
     "execution_count": 7,
     "metadata": {},
     "output_type": "execute_result"
    }
   ],
   "source": [
    "a = range(3)\n",
    "a"
   ]
  },
  {
   "cell_type": "code",
   "execution_count": 12,
   "id": "93966d0f-ef32-4270-8996-b1009bca6dc9",
   "metadata": {},
   "outputs": [
    {
     "name": "stdout",
     "output_type": "stream",
     "text": [
      "0\t1\t2\t3\t4\t5\t6\t7\t8\t9\t"
     ]
    }
   ],
   "source": [
    "for i in range(10):\n",
    "    print(i, end='\\t')"
   ]
  },
  {
   "cell_type": "code",
   "execution_count": 13,
   "id": "8bdf7d14-533c-4d99-bab5-4d3a77913364",
   "metadata": {},
   "outputs": [
    {
     "name": "stdout",
     "output_type": "stream",
     "text": [
      "10\t12\t14\t16\t18\t20\t22\t24\t26\t28\t"
     ]
    }
   ],
   "source": [
    "for i in range(10,30,2):\n",
    "    print(i, end='\\t')"
   ]
  },
  {
   "cell_type": "code",
   "execution_count": 14,
   "id": "ffcb1823-1cef-4565-bbd9-e493ee5bff5d",
   "metadata": {},
   "outputs": [
    {
     "data": {
      "text/plain": [
       "190"
      ]
     },
     "execution_count": 14,
     "metadata": {},
     "output_type": "execute_result"
    }
   ],
   "source": [
    "sum(range(10,30,2))"
   ]
  },
  {
   "cell_type": "code",
   "execution_count": 15,
   "id": "bdaefe07-fa90-4a84-8b66-c3d84666236a",
   "metadata": {},
   "outputs": [
    {
     "name": "stdout",
     "output_type": "stream",
     "text": [
      "10\t7\t4\t1\t"
     ]
    }
   ],
   "source": [
    "for i in range(10,0,-3):\n",
    "    print(i, end='\\t')"
   ]
  },
  {
   "cell_type": "markdown",
   "id": "30ed20e7-151d-40f7-9474-59afff1bffb4",
   "metadata": {},
   "source": [
    "# Creating a Dictionary"
   ]
  },
  {
   "cell_type": "code",
   "execution_count": 19,
   "id": "a339ea3b-f12d-4a49-81dc-3fcf2e2908af",
   "metadata": {},
   "outputs": [
    {
     "name": "stdout",
     "output_type": "stream",
     "text": [
      "{'name': 'Rahim', 'age': 20, 'city': 'Dhaka'}\n"
     ]
    }
   ],
   "source": [
    "student = {\n",
    "    \"name\" : \"Rahim\",\n",
    "    \"age\" : 20,\n",
    "    \"city\": \"Dhaka\"\n",
    "}\n",
    "print(student)"
   ]
  },
  {
   "cell_type": "code",
   "execution_count": 20,
   "id": "5e87705a-4024-4527-aaa7-27a4291bce1e",
   "metadata": {},
   "outputs": [
    {
     "name": "stdout",
     "output_type": "stream",
     "text": [
      "Rahim\n"
     ]
    }
   ],
   "source": [
    "# Accessing values\n",
    "print(student[\"name\"])"
   ]
  },
  {
   "cell_type": "code",
   "execution_count": 21,
   "id": "493659af-0705-46f2-84b3-34b4fa82d3a5",
   "metadata": {},
   "outputs": [
    {
     "name": "stdout",
     "output_type": "stream",
     "text": [
      "20\n"
     ]
    }
   ],
   "source": [
    "print(student[\"age\"])"
   ]
  },
  {
   "cell_type": "code",
   "execution_count": 22,
   "id": "af047864-b99a-4f8f-92c4-b5a369da3584",
   "metadata": {},
   "outputs": [
    {
     "name": "stdout",
     "output_type": "stream",
     "text": [
      "{'name': 'Rahim', 'age': 20, 'city': 'Dhaka', 'gpa': 4.5}\n"
     ]
    }
   ],
   "source": [
    "# Adding a new key-value pair\n",
    "student[\"gpa\"] = 4.5\n",
    "print(student)"
   ]
  },
  {
   "cell_type": "code",
   "execution_count": 23,
   "id": "39adab92-0ab9-4797-85ea-29dd2f341b58",
   "metadata": {},
   "outputs": [
    {
     "data": {
      "text/plain": [
       "{'name': 'Rahim', 'age': 22, 'city': 'Dhaka', 'gpa': 4.5}"
      ]
     },
     "execution_count": 23,
     "metadata": {},
     "output_type": "execute_result"
    }
   ],
   "source": [
    "# Modifing a value\n",
    "student[\"age\"] = 22\n",
    "student"
   ]
  },
  {
   "cell_type": "code",
   "execution_count": 24,
   "id": "d2d753ef-2eee-4363-9298-6754b620234d",
   "metadata": {},
   "outputs": [
    {
     "data": {
      "text/plain": [
       "dict_keys(['name', 'age', 'city', 'gpa'])"
      ]
     },
     "execution_count": 24,
     "metadata": {},
     "output_type": "execute_result"
    }
   ],
   "source": [
    "student.keys()"
   ]
  },
  {
   "cell_type": "code",
   "execution_count": 25,
   "id": "3cf7d534-f542-4673-9c5a-2cd7891fdb59",
   "metadata": {},
   "outputs": [
    {
     "data": {
      "text/plain": [
       "dict_values(['Rahim', 22, 'Dhaka', 4.5])"
      ]
     },
     "execution_count": 25,
     "metadata": {},
     "output_type": "execute_result"
    }
   ],
   "source": [
    "student.values()"
   ]
  },
  {
   "cell_type": "code",
   "execution_count": 26,
   "id": "2a2197ed-2b36-4302-9df9-5a088b6af630",
   "metadata": {},
   "outputs": [
    {
     "data": {
      "text/plain": [
       "{'name': 'Rahim', 'age': 22, 'gpa': 4.5}"
      ]
     },
     "execution_count": 26,
     "metadata": {},
     "output_type": "execute_result"
    }
   ],
   "source": [
    "# removing a key-pair value\n",
    "del student[\"city\"]\n",
    "student"
   ]
  },
  {
   "cell_type": "markdown",
   "id": "8e394e09-c60e-45f5-85ee-3a23f3c6497e",
   "metadata": {},
   "source": [
    "# Formatted (f) strings"
   ]
  },
  {
   "cell_type": "code",
   "execution_count": 27,
   "id": "55d56b8e-1b68-4c51-99c1-b5245b821fd9",
   "metadata": {},
   "outputs": [
    {
     "name": "stdout",
     "output_type": "stream",
     "text": [
      "Nabiha-93\n"
     ]
    }
   ],
   "source": [
    "name = \"Nabiha\"\n",
    "score = 93\n",
    "print(name,score,sep='-')"
   ]
  },
  {
   "cell_type": "code",
   "execution_count": 28,
   "id": "57193b01-8511-4a21-a3b5-186cb890031c",
   "metadata": {},
   "outputs": [
    {
     "name": "stdout",
     "output_type": "stream",
     "text": [
      "Nabiha scored 93 marks\n"
     ]
    }
   ],
   "source": [
    "print(name, \"scored\", score, \"marks\")"
   ]
  },
  {
   "cell_type": "code",
   "execution_count": 31,
   "id": "c7757f9e-a079-4558-8dce-6a1960401a27",
   "metadata": {},
   "outputs": [
    {
     "name": "stdout",
     "output_type": "stream",
     "text": [
      "Nabiha scored 93 marks\n"
     ]
    }
   ],
   "source": [
    "print(f\"{name} scored {score} marks\") "
   ]
  },
  {
   "cell_type": "code",
   "execution_count": 36,
   "id": "eff5c168-ad19-4def-92ca-030b600bf897",
   "metadata": {},
   "outputs": [
    {
     "name": "stdout",
     "output_type": "stream",
     "text": [
      "name of the student is Alif and his age is 13\n"
     ]
    }
   ],
   "source": [
    "name, age = 'Alif' , 13\n",
    "print(f'name of the student is {name} and his age is {age}')"
   ]
  },
  {
   "cell_type": "code",
   "execution_count": null,
   "id": "31f1f628-6912-423b-99a4-5c68a7e12530",
   "metadata": {},
   "outputs": [],
   "source": []
  }
 ],
 "metadata": {
  "kernelspec": {
   "display_name": "Python 3 (ipykernel)",
   "language": "python",
   "name": "python3"
  },
  "language_info": {
   "codemirror_mode": {
    "name": "ipython",
    "version": 3
   },
   "file_extension": ".py",
   "mimetype": "text/x-python",
   "name": "python",
   "nbconvert_exporter": "python",
   "pygments_lexer": "ipython3",
   "version": "3.13.5"
  }
 },
 "nbformat": 4,
 "nbformat_minor": 5
}
