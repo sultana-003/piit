{
 "cells": [
  {
   "cell_type": "markdown",
   "id": "5ac0b758-5e40-41d7-a824-5cd615892b01",
   "metadata": {},
   "source": [
    "# Sets "
   ]
  },
  {
   "cell_type": "markdown",
   "id": "abf2caf2-a1e3-4bb2-ae5a-4b2c1a47f654",
   "metadata": {},
   "source": [
    "### Basic set of numbers"
   ]
  },
  {
   "cell_type": "code",
   "execution_count": 2,
   "id": "51078236-9558-4665-868f-389bd031467b",
   "metadata": {},
   "outputs": [
    {
     "name": "stdout",
     "output_type": "stream",
     "text": [
      "{16, 1, 4, 6, 8, 9}\n"
     ]
    }
   ],
   "source": [
    "numbers = {1,4,6,8,9,16}\n",
    "print(numbers)"
   ]
  },
  {
   "cell_type": "markdown",
   "id": "a58acbcf-7bd1-46d3-8655-3351ed9346ee",
   "metadata": {},
   "source": [
    "#### Set of Strings"
   ]
  },
  {
   "cell_type": "code",
   "execution_count": 4,
   "id": "de2aafe7-9048-4876-a666-64cfa6eca02f",
   "metadata": {},
   "outputs": [
    {
     "data": {
      "text/plain": [
       "{'apple', 'mango', 'orange'}"
      ]
     },
     "execution_count": 4,
     "metadata": {},
     "output_type": "execute_result"
    }
   ],
   "source": [
    "fruits = {\"mango\",\"apple\",\"orange\"}\n",
    "fruits"
   ]
  },
  {
   "cell_type": "markdown",
   "id": "1b62d2bb-a9d2-46ab-8245-4728e10bd4a0",
   "metadata": {},
   "source": [
    "#### Mixed Data Types in a Set"
   ]
  },
  {
   "cell_type": "code",
   "execution_count": 7,
   "id": "8275c934-1376-4540-9a37-b07dc755fdfc",
   "metadata": {},
   "outputs": [
    {
     "name": "stdout",
     "output_type": "stream",
     "text": [
      "{2, 2.45, 'hello', 'True'}\n"
     ]
    }
   ],
   "source": [
    "mixed = {2, \"hello\", 2.45, \"True\"}\n",
    "print(mixed)"
   ]
  },
  {
   "cell_type": "markdown",
   "id": "7649b266-d2a4-47a0-9147-b9163d9040a8",
   "metadata": {},
   "source": [
    "#### Adding elements"
   ]
  },
  {
   "cell_type": "code",
   "execution_count": 9,
   "id": "9cc12676-5fd0-411b-acaf-5898df997ae5",
   "metadata": {},
   "outputs": [
    {
     "name": "stdout",
     "output_type": "stream",
     "text": [
      "{'peach', 'orange', 'apple', 'cherry'}\n"
     ]
    }
   ],
   "source": [
    "fruits = {\"apple\", \"orange\", \"peach\"}\n",
    "fruits.add(\"cherry\")\n",
    "print(fruits)"
   ]
  },
  {
   "cell_type": "markdown",
   "id": "76635c57-bc08-4c51-aec2-01a55b301e81",
   "metadata": {},
   "source": [
    "#### removing elements"
   ]
  },
  {
   "cell_type": "code",
   "execution_count": 10,
   "id": "ebe011b6-b3a4-4572-869c-9849647a3794",
   "metadata": {},
   "outputs": [
    {
     "data": {
      "text/plain": [
       "{'cherry', 'orange', 'peach'}"
      ]
     },
     "execution_count": 10,
     "metadata": {},
     "output_type": "execute_result"
    }
   ],
   "source": [
    "fruits.remove(\"apple\")\n",
    "fruits"
   ]
  },
  {
   "cell_type": "code",
   "execution_count": null,
   "id": "f1f60ce4-ae9b-4522-bdca-bc06b1bbb7cc",
   "metadata": {},
   "outputs": [],
   "source": []
  }
 ],
 "metadata": {
  "kernelspec": {
   "display_name": "Python 3 (ipykernel)",
   "language": "python",
   "name": "python3"
  },
  "language_info": {
   "codemirror_mode": {
    "name": "ipython",
    "version": 3
   },
   "file_extension": ".py",
   "mimetype": "text/x-python",
   "name": "python",
   "nbconvert_exporter": "python",
   "pygments_lexer": "ipython3",
   "version": "3.13.5"
  }
 },
 "nbformat": 4,
 "nbformat_minor": 5
}
