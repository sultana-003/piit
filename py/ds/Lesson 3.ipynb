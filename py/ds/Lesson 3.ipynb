{
 "cells": [
  {
   "cell_type": "markdown",
   "id": "5ac0b758-5e40-41d7-a824-5cd615892b01",
   "metadata": {},
   "source": [
    "# Sets "
   ]
  },
  {
   "cell_type": "markdown",
   "id": "abf2caf2-a1e3-4bb2-ae5a-4b2c1a47f654",
   "metadata": {},
   "source": [
    "### Basic set of numbers"
   ]
  },
  {
   "cell_type": "code",
   "execution_count": 2,
   "id": "51078236-9558-4665-868f-389bd031467b",
   "metadata": {},
   "outputs": [
    {
     "name": "stdout",
     "output_type": "stream",
     "text": [
      "{16, 1, 4, 6, 8, 9}\n"
     ]
    }
   ],
   "source": [
    "numbers = {1,4,6,8,9,16}\n",
    "print(numbers)"
   ]
  },
  {
   "cell_type": "markdown",
   "id": "a58acbcf-7bd1-46d3-8655-3351ed9346ee",
   "metadata": {},
   "source": [
    "#### Set of Strings"
   ]
  },
  {
   "cell_type": "code",
   "execution_count": 4,
   "id": "de2aafe7-9048-4876-a666-64cfa6eca02f",
   "metadata": {},
   "outputs": [
    {
     "data": {
      "text/plain": [
       "{'apple', 'mango', 'orange'}"
      ]
     },
     "execution_count": 4,
     "metadata": {},
     "output_type": "execute_result"
    }
   ],
   "source": [
    "fruits = {\"mango\",\"apple\",\"orange\"}\n",
    "fruits"
   ]
  },
  {
   "cell_type": "markdown",
   "id": "1b62d2bb-a9d2-46ab-8245-4728e10bd4a0",
   "metadata": {},
   "source": [
    "#### Mixed Data Types in a Set"
   ]
  },
  {
   "cell_type": "code",
   "execution_count": 7,
   "id": "8275c934-1376-4540-9a37-b07dc755fdfc",
   "metadata": {},
   "outputs": [
    {
     "name": "stdout",
     "output_type": "stream",
     "text": [
      "{2, 2.45, 'hello', 'True'}\n"
     ]
    }
   ],
   "source": [
    "mixed = {2, \"hello\", 2.45, \"True\"}\n",
    "print(mixed)"
   ]
  },
  {
   "cell_type": "markdown",
   "id": "7649b266-d2a4-47a0-9147-b9163d9040a8",
   "metadata": {},
   "source": [
    "#### Adding elements"
   ]
  },
  {
   "cell_type": "code",
   "execution_count": 9,
   "id": "9cc12676-5fd0-411b-acaf-5898df997ae5",
   "metadata": {},
   "outputs": [
    {
     "name": "stdout",
     "output_type": "stream",
     "text": [
      "{'peach', 'orange', 'apple', 'cherry'}\n"
     ]
    }
   ],
   "source": [
    "fruits = {\"apple\", \"orange\", \"peach\"}\n",
    "fruits.add(\"cherry\")\n",
    "print(fruits)"
   ]
  },
  {
   "cell_type": "markdown",
   "id": "76635c57-bc08-4c51-aec2-01a55b301e81",
   "metadata": {},
   "source": [
    "#### removing elements"
   ]
  },
  {
   "cell_type": "code",
   "execution_count": 10,
   "id": "ebe011b6-b3a4-4572-869c-9849647a3794",
   "metadata": {},
   "outputs": [
    {
     "data": {
      "text/plain": [
       "{'cherry', 'orange', 'peach'}"
      ]
     },
     "execution_count": 10,
     "metadata": {},
     "output_type": "execute_result"
    }
   ],
   "source": [
    "fruits.remove(\"apple\")\n",
    "fruits"
   ]
  },
  {
   "cell_type": "markdown",
   "id": "50caa2ee-8555-482e-b3ca-08db7c0f279f",
   "metadata": {},
   "source": [
    "# Set Methods"
   ]
  },
  {
   "cell_type": "code",
   "execution_count": 2,
   "id": "adf9adbe-694e-4c95-9533-539a3d4b61e9",
   "metadata": {},
   "outputs": [
    {
     "name": "stdout",
     "output_type": "stream",
     "text": [
      "{1, 2, 3, 4, 5}\n"
     ]
    }
   ],
   "source": [
    "# Union : Combines elements from two sets, removing duplicates.\n",
    "\n",
    "set_a = {1,2,3}\n",
    "set_b = {3,4,5}\n",
    "union_set = set_a.union(set_b)\n",
    "print(union_set)"
   ]
  },
  {
   "cell_type": "code",
   "execution_count": 3,
   "id": "90d8ea10-be22-4264-b4e4-9169ab203887",
   "metadata": {},
   "outputs": [
    {
     "name": "stdout",
     "output_type": "stream",
     "text": [
      "{2, 3}\n"
     ]
    }
   ],
   "source": [
    "# Intersection : includes only elements present in both sets.\n",
    "\n",
    "set_a = {1,2,3}\n",
    "set_b = {2,3,4}\n",
    "inter_set = set_a.intersection(set_b)\n",
    "print(inter_set)"
   ]
  },
  {
   "cell_type": "code",
   "execution_count": 4,
   "id": "932255fd-f6ae-441e-a61d-7ad44eaedbf4",
   "metadata": {},
   "outputs": [
    {
     "name": "stdout",
     "output_type": "stream",
     "text": [
      "{1, 2}\n"
     ]
    }
   ],
   "source": [
    "# Differece : elements present in the first set but not in the second\n",
    "\n",
    "set_a = {1,2,3,4}\n",
    "set_b = {3,4,5}\n",
    "diff_set = set_a.difference(set_b)\n",
    "print(diff_set)"
   ]
  },
  {
   "cell_type": "code",
   "execution_count": 5,
   "id": "d27def7f-6984-424a-871b-a430eee59e3b",
   "metadata": {},
   "outputs": [
    {
     "name": "stdout",
     "output_type": "stream",
     "text": [
      "{1, 2, 4, 5}\n"
     ]
    }
   ],
   "source": [
    "# Symmetric difference : elements in either set, but not in both.\n",
    "\n",
    "set_a = {1,2,3}\n",
    "set_b = {3,4,5}\n",
    "sym_diff_set = set_a.symmetric_difference(set_b)\n",
    "print(sym_diff_set)"
   ]
  },
  {
   "cell_type": "code",
   "execution_count": null,
   "id": "330f682b-ccb4-4a8a-87bb-23fe215d1d72",
   "metadata": {},
   "outputs": [],
   "source": []
  }
 ],
 "metadata": {
  "kernelspec": {
   "display_name": "Python 3 (ipykernel)",
   "language": "python",
   "name": "python3"
  },
  "language_info": {
   "codemirror_mode": {
    "name": "ipython",
    "version": 3
   },
   "file_extension": ".py",
   "mimetype": "text/x-python",
   "name": "python",
   "nbconvert_exporter": "python",
   "pygments_lexer": "ipython3",
   "version": "3.13.5"
  }
 },
 "nbformat": 4,
 "nbformat_minor": 5
}
