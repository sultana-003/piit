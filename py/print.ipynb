{
 "cells": [
  {
   "cell_type": "markdown",
   "id": "46bf88f2-9996-4049-8e5d-26365eaf2d35",
   "metadata": {},
   "source": [
    "### Print function"
   ]
  },
  {
   "cell_type": "code",
   "execution_count": 1,
   "id": "122ee24d-abd5-4ecf-8d5d-01acbbf81f8f",
   "metadata": {},
   "outputs": [
    {
     "name": "stdout",
     "output_type": "stream",
     "text": [
      "Hello World\n"
     ]
    }
   ],
   "source": [
    "print(\"Hello World\")  # first program in python"
   ]
  },
  {
   "cell_type": "code",
   "execution_count": 2,
   "id": "95b28eb6-422d-410a-b304-9a39901873f7",
   "metadata": {},
   "outputs": [
    {
     "name": "stdout",
     "output_type": "stream",
     "text": [
      "Sultana learning python\n"
     ]
    }
   ],
   "source": [
    "name = \"Sultana\"\n",
    "print(name, \"learning python\")"
   ]
  },
  {
   "cell_type": "code",
   "execution_count": 1,
   "id": "66fba317-d2e0-415b-8992-8d17a6f9c30e",
   "metadata": {},
   "outputs": [
    {
     "name": "stdout",
     "output_type": "stream",
     "text": [
      "Moly Joly\n"
     ]
    }
   ],
   "source": [
    "print('Moly','Joly')"
   ]
  },
  {
   "cell_type": "code",
   "execution_count": 2,
   "id": "cc83ec01-182e-412a-b50a-44a68cf82c2c",
   "metadata": {},
   "outputs": [
    {
     "name": "stdout",
     "output_type": "stream",
     "text": [
      "Mimi,Moni,Lipi......"
     ]
    }
   ],
   "source": [
    "print('Mimi','Moni','Lipi', sep=',', end= '......')"
   ]
  },
  {
   "cell_type": "code",
   "execution_count": 3,
   "id": "72bfe58a-d957-408e-8162-f8919fadf4bd",
   "metadata": {},
   "outputs": [
    {
     "name": "stdout",
     "output_type": "stream",
     "text": [
      "Hello Nabiha******"
     ]
    }
   ],
   "source": [
    "print(\"Hello\", \"Nabiha\", end = \"******\")"
   ]
  },
  {
   "cell_type": "code",
   "execution_count": 4,
   "id": "24171510-7943-4f8b-9c10-cc444ad11312",
   "metadata": {},
   "outputs": [
    {
     "name": "stdout",
     "output_type": "stream",
     "text": [
      "Hello Gullu\n",
      "Good morning\n"
     ]
    }
   ],
   "source": [
    "print('Hello Gullu', end= '\\n')\n",
    "print(\"Good morning\")"
   ]
  },
  {
   "cell_type": "code",
   "execution_count": 6,
   "id": "0afb3b56-d7c8-44eb-8264-cdb3854fa27e",
   "metadata": {},
   "outputs": [
    {
     "name": "stdout",
     "output_type": "stream",
     "text": [
      "Sultana \n",
      "Parveen\n"
     ]
    }
   ],
   "source": [
    "print('Sultana \\nParveen')"
   ]
  },
  {
   "cell_type": "code",
   "execution_count": 7,
   "id": "625a206f-9511-408f-a0f4-150c154e540b",
   "metadata": {},
   "outputs": [
    {
     "name": "stdout",
     "output_type": "stream",
     "text": [
      "Sultana \t Mahfuza \t Parveen\n"
     ]
    }
   ],
   "source": [
    "print('Sultana \\t Mahfuza \\t Parveen')"
   ]
  },
  {
   "cell_type": "code",
   "execution_count": 8,
   "id": "49a5b5f4-f37c-48cb-abd1-264edc635c31",
   "metadata": {},
   "outputs": [
    {
     "name": "stdout",
     "output_type": "stream",
     "text": [
      "<class 'int'>\n"
     ]
    }
   ],
   "source": [
    "num = 22.56\n",
    "print(type(int(num)))"
   ]
  },
  {
   "cell_type": "code",
   "execution_count": 9,
   "id": "86c40aa5-4f5a-4b02-9ffa-83c97a955894",
   "metadata": {},
   "outputs": [
    {
     "name": "stdout",
     "output_type": "stream",
     "text": [
      "<class 'float'>\n"
     ]
    }
   ],
   "source": [
    "num2 = 87\n",
    "print(type(float(num2)))"
   ]
  },
  {
   "cell_type": "code",
   "execution_count": 11,
   "id": "da89d124-dd71-439f-9582-eca71a915992",
   "metadata": {},
   "outputs": [
    {
     "name": "stdout",
     "output_type": "stream",
     "text": [
      "[1, 2, 3]\n"
     ]
    }
   ],
   "source": [
    "my_list = [1,2,3]\n",
    "print(my_list)"
   ]
  },
  {
   "cell_type": "code",
   "execution_count": 12,
   "id": "822ff0f0-d5da-4834-b824-974c3d6b4bc3",
   "metadata": {},
   "outputs": [
    {
     "name": "stdout",
     "output_type": "stream",
     "text": [
      "<class 'list'>\n"
     ]
    }
   ],
   "source": [
    "print(type(my_list))"
   ]
  },
  {
   "cell_type": "code",
   "execution_count": 16,
   "id": "3b1af222-e076-4fa4-92bc-ce3d2bb6c0ac",
   "metadata": {},
   "outputs": [
    {
     "name": "stdout",
     "output_type": "stream",
     "text": [
      "[1, 'Raju', 'Banu', True, 2.33]\n"
     ]
    }
   ],
   "source": [
    "my_list2 = [1, 'Raju', 'Banu', True, 2.33]\n",
    "print(my_list2)"
   ]
  },
  {
   "cell_type": "code",
   "execution_count": 17,
   "id": "3b788748-822f-4ffe-a1fd-aefe852f02f8",
   "metadata": {},
   "outputs": [
    {
     "name": "stdout",
     "output_type": "stream",
     "text": [
      "[1, 'Raju', 'Banu', True, 2.33, 'Gullu']\n"
     ]
    }
   ],
   "source": [
    "my_list2.append('Gullu')\n",
    "print(my_list2)"
   ]
  },
  {
   "cell_type": "code",
   "execution_count": null,
   "id": "848262b5-749e-402c-86d3-9f018c93b6b7",
   "metadata": {},
   "outputs": [],
   "source": []
  }
 ],
 "metadata": {
  "kernelspec": {
   "display_name": "Python 3 (ipykernel)",
   "language": "python",
   "name": "python3"
  },
  "language_info": {
   "codemirror_mode": {
    "name": "ipython",
    "version": 3
   },
   "file_extension": ".py",
   "mimetype": "text/x-python",
   "name": "python",
   "nbconvert_exporter": "python",
   "pygments_lexer": "ipython3",
   "version": "3.13.5"
  }
 },
 "nbformat": 4,
 "nbformat_minor": 5
}
