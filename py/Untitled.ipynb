{
 "cells": [
  {
   "cell_type": "code",
   "execution_count": null,
   "id": "1ce33d08-70eb-4646-96b7-a6f09757a709",
   "metadata": {},
   "outputs": [],
   "source": [
    "from pydataset import data"
   ]
  },
  {
   "cell_type": "code",
   "execution_count": null,
   "id": "995fb40f-584c-4804-bae0-5573b178bb93",
   "metadata": {},
   "outputs": [],
   "source": [
    "mtcars = data(\"mtcars\")\n",
    "mtcars.head(6)"
   ]
  },
  {
   "cell_type": "code",
   "execution_count": null,
   "id": "b3770413-afd6-42e7-b88d-084791caa46b",
   "metadata": {},
   "outputs": [],
   "source": [
    "mtcars.sample(3)"
   ]
  },
  {
   "cell_type": "code",
   "execution_count": null,
   "id": "ea0f2f60-925f-403e-a466-d0651fee9986",
   "metadata": {},
   "outputs": [],
   "source": [
    "mtcars.info()"
   ]
  },
  {
   "cell_type": "code",
   "execution_count": null,
   "id": "aef714f7-6dd4-47d8-a9f6-f49ce7d4a707",
   "metadata": {},
   "outputs": [],
   "source": [
    "mtcars.columns(5)"
   ]
  },
  {
   "cell_type": "code",
   "execution_count": null,
   "id": "3f427524-d694-4ec9-99da-351bd57405d8",
   "metadata": {},
   "outputs": [],
   "source": [
    "# pip install pandas"
   ]
  },
  {
   "cell_type": "code",
   "execution_count": null,
   "id": "3e3fadbf-6c7d-49ea-9056-0116e295527b",
   "metadata": {},
   "outputs": [],
   "source": [
    "import pandas as pd"
   ]
  },
  {
   "cell_type": "code",
   "execution_count": null,
   "id": "badbb243-80db-4738-ab16-f4948a555543",
   "metadata": {},
   "outputs": [],
   "source": [
    "data = [1,4,5,8,9]\n",
    "data"
   ]
  },
  {
   "cell_type": "code",
   "execution_count": null,
   "id": "601194ab-fc18-4bbe-bbc6-a9ffd3526774",
   "metadata": {},
   "outputs": [],
   "source": [
    "s = pd.Series(data)\n",
    "s"
   ]
  },
  {
   "cell_type": "code",
   "execution_count": null,
   "id": "b718ef49-83e8-4b44-9751-c9f52e2fd411",
   "metadata": {},
   "outputs": [],
   "source": [
    "df = pd.DataFrame(s)\n",
    "df"
   ]
  },
  {
   "cell_type": "code",
   "execution_count": null,
   "id": "e8f6de60-f8ce-469f-8f57-2c441823cf0c",
   "metadata": {},
   "outputs": [],
   "source": []
  }
 ],
 "metadata": {
  "kernelspec": {
   "display_name": "Python 3 (ipykernel)",
   "language": "python",
   "name": "python3"
  },
  "language_info": {
   "codemirror_mode": {
    "name": "ipython",
    "version": 3
   },
   "file_extension": ".py",
   "mimetype": "text/x-python",
   "name": "python",
   "nbconvert_exporter": "python",
   "pygments_lexer": "ipython3",
   "version": "3.13.5"
  }
 },
 "nbformat": 4,
 "nbformat_minor": 5
}
