{
 "cells": [
  {
   "cell_type": "code",
   "execution_count": 1,
   "id": "a3fd0323-4166-46aa-acaa-e5d6e7de473e",
   "metadata": {},
   "outputs": [],
   "source": [
    "import numpy as np\n",
    "import statistics as stats\n",
    "from scipy.stats import skew,kurtosis\n",
    "import random\n",
    "from scipy import stats"
   ]
  },
  {
   "cell_type": "markdown",
   "id": "2e7702f8-9c97-4252-a2ad-6efb91f7fae4",
   "metadata": {},
   "source": [
    "#### Quantile :"
   ]
  },
  {
   "cell_type": "code",
   "execution_count": 2,
   "id": "52817f21-e36e-42b2-936e-9522055a9841",
   "metadata": {},
   "outputs": [
    {
     "name": "stdout",
     "output_type": "stream",
     "text": [
      "[10, 20, 30, 40, 50, 60, 70]\n"
     ]
    }
   ],
   "source": [
    "x = [10,20,30,40,50,60,70]\n",
    "print(x)"
   ]
  },
  {
   "cell_type": "code",
   "execution_count": 3,
   "id": "936117b9-baf8-4f92-bf13-84c683831ebb",
   "metadata": {},
   "outputs": [
    {
     "name": "stdout",
     "output_type": "stream",
     "text": [
      "25.0 40.0 55.0\n"
     ]
    }
   ],
   "source": [
    "q25 = np.quantile(x, 0.25)\n",
    "q50 = np.quantile(x, 0.5)\n",
    "q75 = np.quantile(x, 0.75)\n",
    "print(q25,q50,q75)"
   ]
  },
  {
   "cell_type": "markdown",
   "id": "6459410b-22d8-4370-9c3e-2c31a71ba122",
   "metadata": {},
   "source": [
    "#### IQR ( Interquartile Range) :"
   ]
  },
  {
   "cell_type": "code",
   "execution_count": 4,
   "id": "d9948166-19b6-435a-88db-e0765f204325",
   "metadata": {},
   "outputs": [
    {
     "name": "stdout",
     "output_type": "stream",
     "text": [
      "30.0\n"
     ]
    }
   ],
   "source": [
    "Q1 = np.percentile(x,25)\n",
    "Q3 = np.percentile(x,75)\n",
    "IQR = Q3-Q1\n",
    "print(IQR)"
   ]
  },
  {
   "cell_type": "markdown",
   "id": "d2046d8d-9c10-42b2-bc3b-7e5217603905",
   "metadata": {},
   "source": [
    "#### Outliers :"
   ]
  },
  {
   "cell_type": "code",
   "execution_count": 15,
   "id": "221d5ddd-fecb-41e9-8c60-90b1585fc0a9",
   "metadata": {},
   "outputs": [
    {
     "name": "stdout",
     "output_type": "stream",
     "text": [
      "-15.0 55.0 70.0 -120.0 160.0\n"
     ]
    }
   ],
   "source": [
    "x2 = [-150,-100,-90,-25,-5,-1,10,20,30,40,50,60,70,500,1000]\n",
    "Q1 = np.percentile(x2,25)\n",
    "Q3 = np.percentile(x2,75)\n",
    "IQR = Q3 - Q1\n",
    "lower_bound = Q1 - 1.5*IQR\n",
    "upper_bound = Q3 + 1.5*IQR\n",
    "print(Q1,Q3,IQR,lower_bound,upper_bound)"
   ]
  },
  {
   "cell_type": "code",
   "execution_count": 12,
   "id": "65d5efa5-a96a-4085-9cae-257925594cd6",
   "metadata": {},
   "outputs": [
    {
     "name": "stdout",
     "output_type": "stream",
     "text": [
      "[-150, 500, 1000]\n"
     ]
    }
   ],
   "source": [
    "outliers = [x for x in x2 if x < lower_bound or x > upper_bound]\n",
    "print(outliers)"
   ]
  },
  {
   "cell_type": "code",
   "execution_count": null,
   "id": "cd5f3a43-e9de-4910-b257-eac33f1d46b3",
   "metadata": {},
   "outputs": [],
   "source": []
  },
  {
   "cell_type": "markdown",
   "id": "3109335d-635d-49db-98e2-34320dd56bb3",
   "metadata": {},
   "source": [
    "#### Kurtosis and Skewness :"
   ]
  },
  {
   "cell_type": "code",
   "execution_count": 6,
   "id": "ba2d8ecf-1383-49ee-bf72-594d1d95fa7a",
   "metadata": {},
   "outputs": [
    {
     "name": "stdout",
     "output_type": "stream",
     "text": [
      "0.6056789721537372 -0.5026082044432152\n"
     ]
    }
   ],
   "source": [
    "x3 = np.array([10,20,30,15,18,30,35,50])     # =3:Mesokurtic, >3:Leptokurtic, <3:Plateokurtic\n",
    "sk = skew(x3)                                # >0:right skewed, <0:left skewed, =0:symmetic\n",
    "ku = kurtosis(x3)\n",
    "print(sk,ku)"
   ]
  },
  {
   "cell_type": "markdown",
   "id": "880dce3d-2857-47fa-8ab2-13f5ba3d1e64",
   "metadata": {},
   "source": [
    "#### Covariance :"
   ]
  },
  {
   "cell_type": "code",
   "execution_count": 17,
   "id": "acfad08f-7af5-4c11-aa3d-806776c60ef8",
   "metadata": {},
   "outputs": [
    {
     "name": "stdout",
     "output_type": "stream",
     "text": [
      "[[250. 350.]\n",
      " [350. 500.]]\n"
     ]
    }
   ],
   "source": [
    "x = np.array([10,20,30,40,50])        # Covariance measures how two variables changes together.\n",
    "y = np.array([5,25,35,45,65])         # if they increase or decrease together covariance is positive.\n",
    "cov_matrix = np.cov(x,y)              # if one increase while other decrease covariance is negative.\n",
    "print(cov_matrix)                      # if they are unrelated covariance is close to zero."
   ]
  },
  {
   "cell_type": "code",
   "execution_count": 18,
   "id": "25602e75-9acb-4dd4-9f86-0aafaf923dfb",
   "metadata": {},
   "outputs": [
    {
     "name": "stdout",
     "output_type": "stream",
     "text": [
      "Covariance between x and y : 350.0\n"
     ]
    }
   ],
   "source": [
    "print('Covariance between x and y :', cov_matrix[0,1])"
   ]
  },
  {
   "cell_type": "markdown",
   "id": "983c446f-4735-447e-aeab-2411fa83b9ac",
   "metadata": {},
   "source": [
    "#### Correlation :"
   ]
  },
  {
   "cell_type": "code",
   "execution_count": 21,
   "id": "7bd1a2b9-edf6-47cd-830e-bb4e72eb1430",
   "metadata": {},
   "outputs": [
    {
     "name": "stdout",
     "output_type": "stream",
     "text": [
      "[[1. 1.]\n",
      " [1. 1.]]\n",
      "Correlation between x and y: 1.0\n"
     ]
    }
   ],
   "source": [
    "x  = [10,20,30,40,50]               # correlation letts how strongly two variables move together.\n",
    "y = [20,30,40,50,60]                # it is scale independent(always between -1 and 1)\n",
    "col = np.corrcoef(x, y)\n",
    "print(col)\n",
    "print('Correlation between x and y:', col[0,1])"
   ]
  },
  {
   "cell_type": "markdown",
   "id": "04fa6ef5-5e28-4709-ae85-29a4da69928e",
   "metadata": {},
   "source": [
    "#### Hypothesis test :"
   ]
  },
  {
   "cell_type": "code",
   "execution_count": null,
   "id": "b219e8d6-7d02-4afb-bb0b-66738dc63e55",
   "metadata": {},
   "outputs": [],
   "source": [
    "# Hypothesis test is a statistical method used to make decision or draw conclusions obout a population based on a sample data.\n",
    "# alpha = 0.05\n",
    "# if p_value < alpha\n",
    "#       print(\"reject the null hypothesis\")\n",
    "# else:\n",
    "#       print(\"fail to reject the null hypothesis\")"
   ]
  },
  {
   "cell_type": "markdown",
   "id": "82a1384d-1418-4b0d-b8b2-23489f11f513",
   "metadata": {},
   "source": [
    "#### P-value :"
   ]
  },
  {
   "cell_type": "code",
   "execution_count": null,
   "id": "21f03e90-44de-4f07-b158-6a3386b196e5",
   "metadata": {},
   "outputs": [],
   "source": [
    "# p-value(probability value) is a number that helps to decide whether to reject the null hypothesis in a hypothesis test."
   ]
  },
  {
   "cell_type": "markdown",
   "id": "216c0932-5493-42d4-81aa-75d2c2b92ae3",
   "metadata": {},
   "source": [
    "#### t-test :"
   ]
  },
  {
   "cell_type": "code",
   "execution_count": null,
   "id": "d38aae83-b0a4-4ec9-aa26-339485fcf21e",
   "metadata": {},
   "outputs": [],
   "source": [
    "# A t-test checks if two averages are really different or if the difference happened by random chance."
   ]
  },
  {
   "cell_type": "markdown",
   "id": "091f06ad-f1a7-4a21-b16c-63d7e85164d2",
   "metadata": {},
   "source": [
    "#### One sample test:"
   ]
  },
  {
   "cell_type": "code",
   "execution_count": 22,
   "id": "6b8cd334-2075-4a9e-bb28-f9d81d271795",
   "metadata": {},
   "outputs": [
    {
     "data": {
      "text/plain": [
       "[52, 49, 51, 50, 53, 48, 47, 54, 49, 50]"
      ]
     },
     "execution_count": 22,
     "metadata": {},
     "output_type": "execute_result"
    }
   ],
   "source": [
    "data = [52,49,51,50,53,48,47,54,49,50]      # if the sample mean is different from a known value.testing if mean is equal to 50.\n",
    "data"
   ]
  },
  {
   "cell_type": "code",
   "execution_count": 27,
   "id": "95e46108-b6c1-480b-8bad-12225dff0f42",
   "metadata": {},
   "outputs": [
    {
     "name": "stdout",
     "output_type": "stream",
     "text": [
      "0.42857142857142455\n",
      "0.6783097418055826\n"
     ]
    }
   ],
   "source": [
    "t_stat, p_value = stats.ttest_1samp(data, 50)\n",
    "print(t_stat)\n",
    "print(p_value)"
   ]
  },
  {
   "cell_type": "code",
   "execution_count": null,
   "id": "5b2f83cb-2997-411b-852d-7621bace4811",
   "metadata": {},
   "outputs": [],
   "source": [
    "# result: p_value > 0.05 , fail to reject null hypothesis."
   ]
  },
  {
   "cell_type": "markdown",
   "id": "63b224c6-a82c-437a-b64a-735292969a4b",
   "metadata": {},
   "source": [
    "#### Two sample test :"
   ]
  },
  {
   "cell_type": "code",
   "execution_count": 28,
   "id": "90b5843d-8ab4-4efd-802f-d2d43da18dc2",
   "metadata": {},
   "outputs": [
    {
     "name": "stdout",
     "output_type": "stream",
     "text": [
      "-4.160251471689219 0.003164123781235034\n"
     ]
    }
   ],
   "source": [
    "group1 = [10,12,11,13,12]              # compares mean of two different groups.\n",
    "group2 = [14,15,13,16,15]\n",
    "t_stat, p_value = stats.ttest_ind(group1, group2)\n",
    "print(t_stat,p_value)"
   ]
  },
  {
   "cell_type": "code",
   "execution_count": null,
   "id": "8e365677-f72f-4f05-a79f-5259e7287650",
   "metadata": {},
   "outputs": [],
   "source": [
    "# result : p_value < 0.05 , reject the null hypothesis."
   ]
  },
  {
   "cell_type": "markdown",
   "id": "3526fe85-8c2e-40eb-ae3c-ce060ebd4a04",
   "metadata": {},
   "source": [
    "#### Paired test :"
   ]
  },
  {
   "cell_type": "code",
   "execution_count": 29,
   "id": "b0cc2503-3699-4d1f-af06-8488282dd0c5",
   "metadata": {},
   "outputs": [
    {
     "name": "stdout",
     "output_type": "stream",
     "text": [
      "-7.333333333333334 0.0018405080271155973\n"
     ]
    }
   ],
   "source": [
    "before = [100,102,98,97,101]      # compares mean from the same group at two different times.\n",
    "after = [105,107,100,102,106]\n",
    "t_stat, p_value = stats.ttest_rel(before, after)\n",
    "print(t_stat, p_value)"
   ]
  },
  {
   "cell_type": "code",
   "execution_count": null,
   "id": "e3b84590-f596-4f85-ae68-e3057a9cb6b2",
   "metadata": {},
   "outputs": [],
   "source": [
    "# result: p_value < 0.05  , reject the null hypothesis."
   ]
  },
  {
   "cell_type": "markdown",
   "id": "f70c3f9d-ffcf-4904-b162-fac20d5fe000",
   "metadata": {},
   "source": [
    "#### ANOVA/F test :"
   ]
  },
  {
   "cell_type": "code",
   "execution_count": 30,
   "id": "e88b1ce4-e967-42af-8661-419071bbeff3",
   "metadata": {},
   "outputs": [
    {
     "name": "stdout",
     "output_type": "stream",
     "text": [
      "f-statistics: 180.66666666666666\n",
      "p-value: 1.1028256754466683e-09\n"
     ]
    }
   ],
   "source": [
    "group1 =[50,52,53,49,51]         # used to check if three or more group means are significantly different from each other.\n",
    "group2 = [60,62,59,58,61]\n",
    "group3 = [70,68,69,71,72]\n",
    "f_stat, p_value = stats.f_oneway(group1,group2,group3)\n",
    "print('f-statistics:', f_stat)\n",
    "print('p-value:', p_value)\n",
    "          "
   ]
  },
  {
   "cell_type": "code",
   "execution_count": 31,
   "id": "123b6e62-a8a1-4f43-b0a4-35a6082f2fe3",
   "metadata": {},
   "outputs": [],
   "source": [
    "# actual p_value is 0.0000000001102852\n",
    "# result : p_value < 0.05 , reject the null hypothesis"
   ]
  },
  {
   "cell_type": "markdown",
   "id": "e9e5493f-8bfc-428d-ae31-8496e9c9fff7",
   "metadata": {},
   "source": [
    "#### Sampling :"
   ]
  },
  {
   "cell_type": "code",
   "execution_count": 2,
   "id": "9afe11ae-5a0a-46a5-b6cb-6ab0dc6c57a7",
   "metadata": {},
   "outputs": [
    {
     "name": "stdout",
     "output_type": "stream",
     "text": [
      "[1, 2, 3, 4, 5, 6, 7, 8, 9, 10, 11, 12, 13, 14, 15, 16, 17, 18, 19, 20, 21, 22, 23, 24, 25, 26, 27, 28, 29, 30, 31, 32, 33, 34, 35, 36, 37, 38, 39, 40, 41, 42, 43, 44, 45, 46, 47, 48, 49, 50, 51, 52, 53, 54, 55, 56, 57, 58, 59, 60, 61, 62, 63, 64, 65, 66, 67, 68, 69, 70, 71, 72, 73, 74, 75, 76, 77, 78, 79, 80, 81, 82, 83, 84, 85, 86, 87, 88, 89, 90, 91, 92, 93, 94, 95, 96, 97, 98, 99, 100]\n"
     ]
    }
   ],
   "source": [
    "population = list(range(1,101))\n",
    "print(population)"
   ]
  },
  {
   "cell_type": "code",
   "execution_count": 3,
   "id": "6c939ef8-e71c-447c-94ca-3fa1b8b1e0cc",
   "metadata": {},
   "outputs": [
    {
     "name": "stdout",
     "output_type": "stream",
     "text": [
      "[29, 73, 72, 36, 56, 46, 64, 67, 35, 44]\n"
     ]
    }
   ],
   "source": [
    "sample = random.sample(population, 10)\n",
    "print(sample)"
   ]
  },
  {
   "cell_type": "code",
   "execution_count": 4,
   "id": "0d94e935-f7a7-4000-b55d-22ff0e303495",
   "metadata": {},
   "outputs": [
    {
     "name": "stdout",
     "output_type": "stream",
     "text": [
      "[  1   2   3   4   5   6   7   8   9  10  11  12  13  14  15  16  17  18\n",
      "  19  20  21  22  23  24  25  26  27  28  29  30  31  32  33  34  35  36\n",
      "  37  38  39  40  41  42  43  44  45  46  47  48  49  50  51  52  53  54\n",
      "  55  56  57  58  59  60  61  62  63  64  65  66  67  68  69  70  71  72\n",
      "  73  74  75  76  77  78  79  80  81  82  83  84  85  86  87  88  89  90\n",
      "  91  92  93  94  95  96  97  98  99 100]\n"
     ]
    }
   ],
   "source": [
    "data = np.arange(1,101)       # with numpy\n",
    "print(data)"
   ]
  },
  {
   "cell_type": "code",
   "execution_count": 5,
   "id": "e91cf217-77d5-4cd6-ae34-9a12b45cdf02",
   "metadata": {},
   "outputs": [
    {
     "name": "stdout",
     "output_type": "stream",
     "text": [
      "[72  6 56 21 16 33 91  9 15 52]\n"
     ]
    }
   ],
   "source": [
    "sample = np.random.choice(data, size=10, replace=False)\n",
    "print(sample)"
   ]
  },
  {
   "cell_type": "code",
   "execution_count": 6,
   "id": "aff86ae4-e489-4f8b-b4b4-de79ed210332",
   "metadata": {},
   "outputs": [],
   "source": [
    "import pandas as pd"
   ]
  },
  {
   "cell_type": "code",
   "execution_count": 8,
   "id": "f9183a87-8036-4b94-b145-cfd4f3be9e43",
   "metadata": {},
   "outputs": [
    {
     "data": {
      "text/html": [
       "<div>\n",
       "<style scoped>\n",
       "    .dataframe tbody tr th:only-of-type {\n",
       "        vertical-align: middle;\n",
       "    }\n",
       "\n",
       "    .dataframe tbody tr th {\n",
       "        vertical-align: top;\n",
       "    }\n",
       "\n",
       "    .dataframe thead th {\n",
       "        text-align: right;\n",
       "    }\n",
       "</style>\n",
       "<table border=\"1\" class=\"dataframe\">\n",
       "  <thead>\n",
       "    <tr style=\"text-align: right;\">\n",
       "      <th></th>\n",
       "      <th>id</th>\n",
       "      <th>age</th>\n",
       "    </tr>\n",
       "  </thead>\n",
       "  <tbody>\n",
       "    <tr>\n",
       "      <th>0</th>\n",
       "      <td>1</td>\n",
       "      <td>31</td>\n",
       "    </tr>\n",
       "    <tr>\n",
       "      <th>1</th>\n",
       "      <td>2</td>\n",
       "      <td>44</td>\n",
       "    </tr>\n",
       "    <tr>\n",
       "      <th>2</th>\n",
       "      <td>3</td>\n",
       "      <td>28</td>\n",
       "    </tr>\n",
       "    <tr>\n",
       "      <th>3</th>\n",
       "      <td>4</td>\n",
       "      <td>18</td>\n",
       "    </tr>\n",
       "    <tr>\n",
       "      <th>4</th>\n",
       "      <td>5</td>\n",
       "      <td>34</td>\n",
       "    </tr>\n",
       "    <tr>\n",
       "      <th>5</th>\n",
       "      <td>6</td>\n",
       "      <td>19</td>\n",
       "    </tr>\n",
       "    <tr>\n",
       "      <th>6</th>\n",
       "      <td>7</td>\n",
       "      <td>22</td>\n",
       "    </tr>\n",
       "    <tr>\n",
       "      <th>7</th>\n",
       "      <td>8</td>\n",
       "      <td>59</td>\n",
       "    </tr>\n",
       "    <tr>\n",
       "      <th>8</th>\n",
       "      <td>9</td>\n",
       "      <td>39</td>\n",
       "    </tr>\n",
       "    <tr>\n",
       "      <th>9</th>\n",
       "      <td>10</td>\n",
       "      <td>55</td>\n",
       "    </tr>\n",
       "    <tr>\n",
       "      <th>10</th>\n",
       "      <td>11</td>\n",
       "      <td>58</td>\n",
       "    </tr>\n",
       "    <tr>\n",
       "      <th>11</th>\n",
       "      <td>12</td>\n",
       "      <td>59</td>\n",
       "    </tr>\n",
       "    <tr>\n",
       "      <th>12</th>\n",
       "      <td>13</td>\n",
       "      <td>33</td>\n",
       "    </tr>\n",
       "    <tr>\n",
       "      <th>13</th>\n",
       "      <td>14</td>\n",
       "      <td>18</td>\n",
       "    </tr>\n",
       "    <tr>\n",
       "      <th>14</th>\n",
       "      <td>15</td>\n",
       "      <td>41</td>\n",
       "    </tr>\n",
       "    <tr>\n",
       "      <th>15</th>\n",
       "      <td>16</td>\n",
       "      <td>33</td>\n",
       "    </tr>\n",
       "    <tr>\n",
       "      <th>16</th>\n",
       "      <td>17</td>\n",
       "      <td>23</td>\n",
       "    </tr>\n",
       "    <tr>\n",
       "      <th>17</th>\n",
       "      <td>18</td>\n",
       "      <td>22</td>\n",
       "    </tr>\n",
       "    <tr>\n",
       "      <th>18</th>\n",
       "      <td>19</td>\n",
       "      <td>52</td>\n",
       "    </tr>\n",
       "    <tr>\n",
       "      <th>19</th>\n",
       "      <td>20</td>\n",
       "      <td>53</td>\n",
       "    </tr>\n",
       "  </tbody>\n",
       "</table>\n",
       "</div>"
      ],
      "text/plain": [
       "    id  age\n",
       "0    1   31\n",
       "1    2   44\n",
       "2    3   28\n",
       "3    4   18\n",
       "4    5   34\n",
       "5    6   19\n",
       "6    7   22\n",
       "7    8   59\n",
       "8    9   39\n",
       "9   10   55\n",
       "10  11   58\n",
       "11  12   59\n",
       "12  13   33\n",
       "13  14   18\n",
       "14  15   41\n",
       "15  16   33\n",
       "16  17   23\n",
       "17  18   22\n",
       "18  19   52\n",
       "19  20   53"
      ]
     },
     "execution_count": 8,
     "metadata": {},
     "output_type": "execute_result"
    }
   ],
   "source": [
    "df = pd.DataFrame({\n",
    "             'id': range(1,21),\n",
    "             'age': np.random.randint(18,60,20)})              # with pandas\n",
    "df"
   ]
  },
  {
   "cell_type": "code",
   "execution_count": 9,
   "id": "0fb8ba17-3e8a-4e8f-a347-b4543639310a",
   "metadata": {},
   "outputs": [
    {
     "data": {
      "text/html": [
       "<div>\n",
       "<style scoped>\n",
       "    .dataframe tbody tr th:only-of-type {\n",
       "        vertical-align: middle;\n",
       "    }\n",
       "\n",
       "    .dataframe tbody tr th {\n",
       "        vertical-align: top;\n",
       "    }\n",
       "\n",
       "    .dataframe thead th {\n",
       "        text-align: right;\n",
       "    }\n",
       "</style>\n",
       "<table border=\"1\" class=\"dataframe\">\n",
       "  <thead>\n",
       "    <tr style=\"text-align: right;\">\n",
       "      <th></th>\n",
       "      <th>id</th>\n",
       "      <th>age</th>\n",
       "    </tr>\n",
       "  </thead>\n",
       "  <tbody>\n",
       "    <tr>\n",
       "      <th>0</th>\n",
       "      <td>1</td>\n",
       "      <td>31</td>\n",
       "    </tr>\n",
       "    <tr>\n",
       "      <th>17</th>\n",
       "      <td>18</td>\n",
       "      <td>22</td>\n",
       "    </tr>\n",
       "    <tr>\n",
       "      <th>15</th>\n",
       "      <td>16</td>\n",
       "      <td>33</td>\n",
       "    </tr>\n",
       "    <tr>\n",
       "      <th>1</th>\n",
       "      <td>2</td>\n",
       "      <td>44</td>\n",
       "    </tr>\n",
       "    <tr>\n",
       "      <th>8</th>\n",
       "      <td>9</td>\n",
       "      <td>39</td>\n",
       "    </tr>\n",
       "  </tbody>\n",
       "</table>\n",
       "</div>"
      ],
      "text/plain": [
       "    id  age\n",
       "0    1   31\n",
       "17  18   22\n",
       "15  16   33\n",
       "1    2   44\n",
       "8    9   39"
      ]
     },
     "execution_count": 9,
     "metadata": {},
     "output_type": "execute_result"
    }
   ],
   "source": [
    "sample_df = df.sample(n=5, random_state=42)\n",
    "sample_df"
   ]
  },
  {
   "cell_type": "markdown",
   "id": "fd63ed08-3d95-45fd-818d-5f6505c93485",
   "metadata": {},
   "source": [
    "#### Stratified Sampling( by group) :"
   ]
  },
  {
   "cell_type": "code",
   "execution_count": 11,
   "id": "65765a53-3a6f-4fce-a2f0-ff8494b212df",
   "metadata": {},
   "outputs": [
    {
     "data": {
      "text/html": [
       "<div>\n",
       "<style scoped>\n",
       "    .dataframe tbody tr th:only-of-type {\n",
       "        vertical-align: middle;\n",
       "    }\n",
       "\n",
       "    .dataframe tbody tr th {\n",
       "        vertical-align: top;\n",
       "    }\n",
       "\n",
       "    .dataframe thead th {\n",
       "        text-align: right;\n",
       "    }\n",
       "</style>\n",
       "<table border=\"1\" class=\"dataframe\">\n",
       "  <thead>\n",
       "    <tr style=\"text-align: right;\">\n",
       "      <th></th>\n",
       "      <th>id</th>\n",
       "      <th>age</th>\n",
       "    </tr>\n",
       "  </thead>\n",
       "  <tbody>\n",
       "    <tr>\n",
       "      <th>3</th>\n",
       "      <td>4</td>\n",
       "      <td>18</td>\n",
       "    </tr>\n",
       "    <tr>\n",
       "      <th>6</th>\n",
       "      <td>7</td>\n",
       "      <td>22</td>\n",
       "    </tr>\n",
       "    <tr>\n",
       "      <th>15</th>\n",
       "      <td>16</td>\n",
       "      <td>33</td>\n",
       "    </tr>\n",
       "    <tr>\n",
       "      <th>11</th>\n",
       "      <td>12</td>\n",
       "      <td>59</td>\n",
       "    </tr>\n",
       "  </tbody>\n",
       "</table>\n",
       "</div>"
      ],
      "text/plain": [
       "    id  age\n",
       "3    4   18\n",
       "6    7   22\n",
       "15  16   33\n",
       "11  12   59"
      ]
     },
     "execution_count": 11,
     "metadata": {},
     "output_type": "execute_result"
    }
   ],
   "source": [
    "stratified_sample = df.groupby('age').sample(frac=0.3, random_state=1)\n",
    "stratified_sample"
   ]
  },
  {
   "cell_type": "markdown",
   "id": "c8bfd918-56ae-43cc-b2da-9042c105c964",
   "metadata": {},
   "source": [
    "#### Systematic Sampling :"
   ]
  },
  {
   "cell_type": "code",
   "execution_count": 12,
   "id": "f288ec83-41ca-4319-8fcd-5d9304cb18b1",
   "metadata": {},
   "outputs": [
    {
     "name": "stdout",
     "output_type": "stream",
     "text": [
      "    id  age\n",
      "0    1   31\n",
      "5    6   19\n",
      "10  11   58\n",
      "15  16   33\n"
     ]
    }
   ],
   "source": [
    "k = 5\n",
    "sys_sample = df.iloc[::k]\n",
    "print(sys_sample)"
   ]
  },
  {
   "cell_type": "code",
   "execution_count": null,
   "id": "59b73bcc-5bd0-48a0-bc0e-a70866621515",
   "metadata": {},
   "outputs": [],
   "source": []
  }
 ],
 "metadata": {
  "kernelspec": {
   "display_name": "Python 3 (ipykernel)",
   "language": "python",
   "name": "python3"
  },
  "language_info": {
   "codemirror_mode": {
    "name": "ipython",
    "version": 3
   },
   "file_extension": ".py",
   "mimetype": "text/x-python",
   "name": "python",
   "nbconvert_exporter": "python",
   "pygments_lexer": "ipython3",
   "version": "3.13.5"
  }
 },
 "nbformat": 4,
 "nbformat_minor": 5
}
