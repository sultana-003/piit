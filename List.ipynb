{
 "cells": [
  {
   "cell_type": "markdown",
   "id": "212a29ba-1b1e-4086-bf1c-2f4d8421ed66",
   "metadata": {},
   "source": [
    "# simple list"
   ]
  },
  {
   "cell_type": "code",
   "execution_count": 1,
   "id": "f2be1e74-ffd7-4c70-b66c-86daa05ebdfa",
   "metadata": {},
   "outputs": [
    {
     "name": "stdout",
     "output_type": "stream",
     "text": [
      "[1, 2, 4, 8, 15, 34, 68]\n"
     ]
    }
   ],
   "source": [
    "a = [1,2,4,8,15,34,68]\n",
    "print(a)"
   ]
  },
  {
   "cell_type": "code",
   "execution_count": 2,
   "id": "9a0bdc3b-6fc0-43a7-b7d8-61dbde6754a6",
   "metadata": {},
   "outputs": [
    {
     "data": {
      "text/plain": [
       "list"
      ]
     },
     "execution_count": 2,
     "metadata": {},
     "output_type": "execute_result"
    }
   ],
   "source": [
    "type(a)"
   ]
  },
  {
   "cell_type": "code",
   "execution_count": 3,
   "id": "97f189a8-e0c4-45ec-b7cf-0f3b5cb621da",
   "metadata": {},
   "outputs": [
    {
     "data": {
      "text/plain": [
       "7"
      ]
     },
     "execution_count": 3,
     "metadata": {},
     "output_type": "execute_result"
    }
   ],
   "source": [
    "len(a)"
   ]
  },
  {
   "cell_type": "code",
   "execution_count": 6,
   "id": "25bd3c34-7c9f-4c73-ac88-3324d4e3834e",
   "metadata": {},
   "outputs": [
    {
     "data": {
      "text/plain": [
       "[78, 54, 200, 'Maliha', True]"
      ]
     },
     "execution_count": 6,
     "metadata": {},
     "output_type": "execute_result"
    }
   ],
   "source": [
    "my_list = [78,54,200,'Maliha',True]\n",
    "my_li"
   ]
  },
  {
   "cell_type": "code",
   "execution_count": 10,
   "id": "2db5485e-9c3f-47c4-b7f5-911e82acb7d7",
   "metadata": {},
   "outputs": [
    {
     "name": "stdout",
     "output_type": "stream",
     "text": [
      "[78, 54, 200, 'Maliha', True, 300, 300, 'Nabiha', 'Nabiha']\n"
     ]
    }
   ],
   "source": [
    "my_list.append(\"Nabiha\")\n",
    "print(my_list)"
   ]
  },
  {
   "cell_type": "code",
   "execution_count": 11,
   "id": "d6ae4a63-8a79-46f3-acce-b0e184464b79",
   "metadata": {},
   "outputs": [
    {
     "name": "stdout",
     "output_type": "stream",
     "text": [
      "[78, 54, 'Maliha', True, 300, 300, 'Nabiha', 'Nabiha']\n"
     ]
    }
   ],
   "source": [
    "my_list.remove(200)\n",
    "print(my_list)"
   ]
  },
  {
   "cell_type": "code",
   "execution_count": 12,
   "id": "3779d6db-a2ca-4527-8961-447f9a9a0b1f",
   "metadata": {},
   "outputs": [
    {
     "name": "stdout",
     "output_type": "stream",
     "text": [
      "['Nabiha', 'Nabiha', 300, 300, True, 'Maliha', 54, 78]\n"
     ]
    }
   ],
   "source": [
    "my_list.reverse()\n",
    "print(my_list)"
   ]
  },
  {
   "cell_type": "code",
   "execution_count": 13,
   "id": "e8b453c4-89ed-4c86-81c6-e973d1afa040",
   "metadata": {},
   "outputs": [
    {
     "name": "stdout",
     "output_type": "stream",
     "text": [
      "['Nabiha', 'Nabiha', 300, True, 'Maliha', 54, 78]\n"
     ]
    }
   ],
   "source": [
    "my_list.pop(2)\n",
    "print(my_list)"
   ]
  },
  {
   "cell_type": "code",
   "execution_count": 19,
   "id": "22aba35e-b6ed-45ec-91d7-983ab4f965fe",
   "metadata": {},
   "outputs": [
    {
     "name": "stdout",
     "output_type": "stream",
     "text": [
      "['Nabiha', 'Rana', 'Nabiha', 300, True, 'Maliha', 54, 78]\n"
     ]
    }
   ],
   "source": [
    "my_list.insert(1, \"Rana\")\n",
    "print(my_list)"
   ]
  },
  {
   "cell_type": "code",
   "execution_count": 23,
   "id": "723f69fc-3201-4f54-8257-8cdc98ff7307",
   "metadata": {},
   "outputs": [
    {
     "data": {
      "text/plain": [
       "6"
      ]
     },
     "execution_count": 23,
     "metadata": {},
     "output_type": "execute_result"
    }
   ],
   "source": [
    "index = my_list.index(54)\n",
    "index"
   ]
  },
  {
   "cell_type": "code",
   "execution_count": 24,
   "id": "bc3eb6f4-1040-4d70-91eb-814ab7ac69f2",
   "metadata": {},
   "outputs": [
    {
     "name": "stdout",
     "output_type": "stream",
     "text": [
      "[]\n"
     ]
    }
   ],
   "source": [
    "my_list.clear()\n",
    "print(my_list)"
   ]
  },
  {
   "cell_type": "code",
   "execution_count": 26,
   "id": "9bc252f7-022a-461f-8ff1-58459a3b5d7c",
   "metadata": {},
   "outputs": [
    {
     "name": "stdout",
     "output_type": "stream",
     "text": [
      "[1, 3, 4, 15, 19, 22, 78, 98]\n"
     ]
    }
   ],
   "source": [
    "my_list2 = [4,15,1,3,78,22,19,98]\n",
    "my_list2.sort()\n",
    "print(my_list2)"
   ]
  },
  {
   "cell_type": "code",
   "execution_count": 28,
   "id": "693526c0-00a4-42ab-a623-8f7df500cea7",
   "metadata": {},
   "outputs": [
    {
     "name": "stdout",
     "output_type": "stream",
     "text": [
      "[98, 78, 22, 19, 15, 4, 3, 1]\n"
     ]
    }
   ],
   "source": [
    "my_list2.sort(reverse= True)\n",
    "print(my_list2)"
   ]
  },
  {
   "cell_type": "code",
   "execution_count": null,
   "id": "9d370570-6c84-4c1b-be49-37afefcd935a",
   "metadata": {},
   "outputs": [],
   "source": []
  }
 ],
 "metadata": {
  "kernelspec": {
   "display_name": "Python 3 (ipykernel)",
   "language": "python",
   "name": "python3"
  },
  "language_info": {
   "codemirror_mode": {
    "name": "ipython",
    "version": 3
   },
   "file_extension": ".py",
   "mimetype": "text/x-python",
   "name": "python",
   "nbconvert_exporter": "python",
   "pygments_lexer": "ipython3",
   "version": "3.13.5"
  }
 },
 "nbformat": 4,
 "nbformat_minor": 5
}
